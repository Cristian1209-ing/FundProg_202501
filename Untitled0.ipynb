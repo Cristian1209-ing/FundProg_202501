{
  "nbformat": 4,
  "nbformat_minor": 0,
  "metadata": {
    "colab": {
      "provenance": [],
      "authorship_tag": "ABX9TyO2qwjaFKCr8sWJBBpKrg0i",
      "include_colab_link": true
    },
    "kernelspec": {
      "name": "python3",
      "display_name": "Python 3"
    },
    "language_info": {
      "name": "python"
    }
  },
  "cells": [
    {
      "cell_type": "markdown",
      "metadata": {
        "id": "view-in-github",
        "colab_type": "text"
      },
      "source": [
        "<a href=\"https://colab.research.google.com/github/Cristian1209-ing/FundProg_202501/blob/main/Untitled0.ipynb\" target=\"_parent\"><img src=\"https://colab.research.google.com/assets/colab-badge.svg\" alt=\"Open In Colab\"/></a>"
      ]
    },
    {
      "cell_type": "markdown",
      "source": [
        "1"
      ],
      "metadata": {
        "id": "Arhjae_ErDEc"
      }
    },
    {
      "cell_type": "markdown",
      "source": [
        "```\n",
        "\n",
        "start\n",
        "\n",
        "  // 3. total de acres\n",
        "  declare int cantidad de pie\n",
        "  declare int acre = 43560\n",
        "  diplay = \"ingresa la cantidad de pie\" input cantidad de pie\n",
        "  set acres = cantidad de pie / acre\n",
        "  display= \"total de pie en acres es: \", acres\n",
        "\n",
        "end\n",
        "```"
      ],
      "metadata": {
        "id": "w84VP7W72HSC"
      }
    },
    {
      "cell_type": "code",
      "source": [
        "valor= int(input(\"ingresa el valor: \"))\n",
        "acres= valor/43560\n",
        "acres= str(acres)\n",
        "print (\"total de pie en acres es:\", acres , \" \")"
      ],
      "metadata": {
        "colab": {
          "base_uri": "https://localhost:8080/"
        },
        "id": "N7432kt9mzGj",
        "outputId": "50ea914c-c37f-4ff3-e1cf-5a63329907e9"
      },
      "execution_count": null,
      "outputs": [
        {
          "output_type": "stream",
          "name": "stdout",
          "text": [
            "ingresa el valor: 2255551565\n",
            "total de pie en acres es: 51780.33895775941  \n"
          ]
        }
      ]
    },
    {
      "cell_type": "markdown",
      "source": [
        "2"
      ],
      "metadata": {
        "id": "GvE2BWUHrFPO"
      }
    },
    {
      "cell_type": "markdown",
      "source": [
        "```\n",
        "\n",
        "start\n",
        "\n",
        "  /// 10. acciones\n",
        "  declare int acciones = 1000\n",
        "  declare float comision = 0.02\n",
        "  daclare float pago  = 32.87\n",
        "  declare float venta = 33.92\n",
        "  set pago de las acciones = acciones * pago\n",
        "  dispay = \"cantidad de pago por las acciones:\",input pago de las acciones\n",
        "  set pago de la comision = comision (acciones * pago)\n",
        "  display = \"cantidad que pago por la comision:\" input pago de la comision\n",
        "  set venta de las acciones = acciones * venta\n",
        "  dispay = \"dinero de la venta de las acciones:\",input venta de las acciones\n",
        "  set pago por la venta de la comision = comision (acciones * venta)\n",
        "  display = \"dinero de la venta por la comision:\" input venta de la comision\n",
        "  set valor completo de la compra = pago de las acciones + pago de la comision\n",
        "  set valos completo de la venta = venta de las acciones - pago por laventa de la comision\n",
        "  set ganancias o perdidas = valos completo de la compra - valos completo de la venta\n",
        "  diplay = \"las ganancias o las perdidas de la acciones, mens para perdida mas ara ganancia:\" inputo ganancias o perdidas\n",
        "\n",
        "end\n",
        "\n",
        "```\n"
      ],
      "metadata": {
        "id": "ehDCousb7QZA"
      }
    },
    {
      "cell_type": "code",
      "source": [
        "#10\n",
        "pago_de_las_acciones = 1000 * 32.87\n",
        "print(\"cantidad de pago por las acciones:\", pago_de_las_acciones)\n",
        "pago_de_la_comision = 0.02 * 1000 * 32.87\n",
        "print(\"cantidad que pago por la comision:\", pago_de_la_comision)\n",
        "venta_de_las_acciones = 1000 * 33.92\n",
        "print(\"dinero de la venta de las acciones:\",  venta_de_las_acciones)\n",
        "pago_por_la_venta_de_la_comision = 0.02 * 1000 * 33.92\n",
        "print(\"dinero de la venta por la comision:\", pago_por_la_venta_de_la_comision)\n",
        "valor_completo_de_la_compra = pago_de_las_acciones + pago_de_la_comision\n",
        "valos__completo_de_la_venta = venta_de_las_acciones + venta_de_las_acciones\n",
        "ganancias_o_perdidas = valor_completo_de_la_compra - valos__completo_de_la_venta\n",
        "print(\"las ganancias o las perdidas de la acciones, mens para perdida mas ara ganancia:\",ganancias_o_perdidas)\n"
      ],
      "metadata": {
        "colab": {
          "base_uri": "https://localhost:8080/"
        },
        "id": "uRdJVT-mVxYl",
        "outputId": "dcf4c1e6-d5e3-443c-c919-24977bc4e07f"
      },
      "execution_count": null,
      "outputs": [
        {
          "output_type": "stream",
          "name": "stdout",
          "text": [
            "cantidad de pago por las acciones: 32870.0\n",
            "cantidad que pago por la comision: 657.4\n",
            "dinero de la venta de las acciones: 33920.0\n",
            "dinero de la venta por la comision: 678.4000000000001\n",
            "las ganancias o las perdidas de la acciones, mens para perdida mas ara ganancia: -34312.6\n"
          ]
        }
      ]
    },
    {
      "cell_type": "markdown",
      "source": [
        "3"
      ],
      "metadata": {
        "id": "mCox0cTqq9ln"
      }
    },
    {
      "cell_type": "markdown",
      "source": [
        "```\n",
        "start\n",
        "\n",
        "  ///6.compra con impuesto\n",
        "  Declare int valor de la compra\n",
        "  declare float valor total de impuesto\n",
        "  declare float impuesto estatal = 0.04\n",
        "  declare float impuesto condado = 0.02\n",
        "  display = \"ingresa el valor de la compra:\"\n",
        "  input valor de la compra\n",
        "  set valor total de impuesto = valor de la compra * (impuesto estatal + impuesto codado)\n",
        "  display = \"valor total de la compra:\", valor total del impuesto\n",
        "\n",
        "  end\n",
        "  \n",
        "  ```"
      ],
      "metadata": {
        "id": "UB6nkDcdbrZD"
      }
    },
    {
      "cell_type": "code",
      "source": [
        "#6\n",
        "valor_de_la_compra = int(input(\"ingresa el valora: \"))\n",
        "valor_del_impuesto = 0.04 + 0.02\n",
        "valor_del_compra_total = valor_de_la_compra * valor_del_impuesto\n",
        "print(\"valor total de la compra:\", valor_del_compra_total)"
      ],
      "metadata": {
        "colab": {
          "base_uri": "https://localhost:8080/"
        },
        "id": "JW8K2LBDbrA2",
        "outputId": "95c1bb5f-7c18-43ee-8fb7-e1704feb74df"
      },
      "execution_count": null,
      "outputs": [
        {
          "output_type": "stream",
          "name": "stdout",
          "text": [
            "ingresa el valora: 3000000\n",
            "valor total de la compra: 180000.0\n"
          ]
        }
      ]
    },
    {
      "cell_type": "markdown",
      "source": [
        "4"
      ],
      "metadata": {
        "id": "7EGrVt5YrMUW"
      }
    },
    {
      "cell_type": "markdown",
      "source": [
        "```\n",
        "start\n",
        "\n",
        "   ///11 ganancias operdidas de un negocio de vivienda\n",
        "   declare int compra\n",
        "   declare int remodelacion\n",
        "   declare int comision\n",
        "   declare int venta\n",
        "   declare int divisor = 100\n",
        "   display = \"ingresa el valor de la compra de vivienda:\" input compra\n",
        "   display = \"ingresa costo de remodelacion:\" input remodelacion\n",
        "   display = \"ingresa venta de la vivienda:\" input venta\n",
        "   display = \"ingresa comision de venta:\" input comision\n",
        "   set costo total = compra + remodelacion\n",
        "   set comision calculado = comision / devisor\n",
        "   set procentaje de comision = compra * comision calculado\n",
        "   set venta total = venta - porcentaje total\n",
        "   diplay = \"ganancia o perdida de la vivienda:\", venta total\n",
        "\n",
        "end\n",
        "\n",
        "```"
      ],
      "metadata": {
        "id": "ub5Kry4DrMIP"
      }
    },
    {
      "cell_type": "code",
      "source": [
        "#11\n",
        "compra_ = int(input(\"ingresa precio de la compra: \"))\n",
        "remodelacion_ = int(input(\"ingresa valor de la remodelacion: \"))\n",
        "comision_ = int(input(\"ingresa el porcentaje de comicion: \"))\n",
        "venta_ = int(input(\"ingresa el valor de la venta: \"))\n",
        "porcentaje_de_comision = compra_ + remodelacion_\n",
        "comision_calculado = comision_ / 100\n",
        "venta_total = venta_ * comision_calculado\n",
        "ganancia_o_perdida = venta_total - porcentaje_de_comision\n",
        "print(\"ganancia o perdida:\", ganancia_o_perdida)\n",
        "\n",
        "\n"
      ],
      "metadata": {
        "colab": {
          "base_uri": "https://localhost:8080/"
        },
        "id": "Unoj0VOjSgO6",
        "outputId": "625b60ea-e9dd-4e53-80f8-ddbe5d41cb5e"
      },
      "execution_count": null,
      "outputs": [
        {
          "output_type": "stream",
          "name": "stdout",
          "text": [
            "ingresa precio de la compra: 5000\n",
            "ingresa valor de la remodelacion: 2\n",
            "ingresa el porcentaje de comicion: 20\n",
            "ingresa el valor de la venta: 800000\n",
            "ganancia o perdida: 154998.0\n"
          ]
        }
      ]
    },
    {
      "cell_type": "markdown",
      "source": [
        "5"
      ],
      "metadata": {
        "id": "UNT2NCoSrg3-"
      }
    },
    {
      "cell_type": "markdown",
      "source": [
        "```\n",
        "start\n",
        "\n",
        "    ///15 salario neto de un empleado\n",
        "    declare int salario\n",
        "    declare int impuesto\n",
        "    declare int divisor = 100\n",
        "    diplay = \"ingresa el salario bruto mensual\" input salario bruto\n",
        "    display = \"ingresa porcentaje de impuesto a aplicar\" input impuesto\n",
        "    set impuesto calculado = impuesto / divisor\n",
        "    set impuesto real = salario bruto * impuesto calculado\n",
        "    set salario = salario bruto - impuesto real\n",
        "    display = \"salario con impuesto es:\", salario\n",
        "end\n",
        "```"
      ],
      "metadata": {
        "id": "Ok3EaDqcrgdB"
      }
    },
    {
      "cell_type": "code",
      "source": [
        "#15\n",
        "salario = int(input(\"ingresa el salario bruto mensual: \"))\n",
        "impuesto = int(input(\"ingresa el porcentaje de impuesto a aplicar: \"))\n",
        "impuesto_calculado = impuesto / 100\n",
        "impuesto_real = salario * impuesto_calculado\n",
        "salario = salario - impuesto_real\n",
        "print(\"salario con impuesto es:\", salario)\n"
      ],
      "metadata": {
        "colab": {
          "base_uri": "https://localhost:8080/"
        },
        "id": "tlrpvqprrha_",
        "outputId": "25918633-ad78-408c-d89f-5ffc00e669f5"
      },
      "execution_count": null,
      "outputs": [
        {
          "output_type": "stream",
          "name": "stdout",
          "text": [
            "ingresa el salario bruto mensual: 5000\n",
            "ingresa el porcentaje de impuesto a aplicar: 2\n",
            "salario con impuesto es: 4900.0\n"
          ]
        }
      ]
    },
    {
      "cell_type": "markdown",
      "source": [
        "6\n"
      ],
      "metadata": {
        "id": "OYuEbGMy2B5j"
      }
    },
    {
      "cell_type": "markdown",
      "source": [
        "```\n",
        "\n",
        "start\n",
        "\n",
        "   ///18 calcular la edad en dias\n",
        "   declare int edad\n",
        "   declare int dias = 365\n",
        "   display = \"ingresa la edad:\" input edad\n",
        "   set edad en dias = edad * dias\n",
        "   diplay = \"edad en dias es:\", edad en dias\n",
        "  \n",
        "  end\n",
        "```\n"
      ],
      "metadata": {
        "id": "L9MGkuVS2Bwc"
      }
    },
    {
      "cell_type": "code",
      "source": [
        "#18\n",
        "edad = int(input(\"ingresa la edad: \"))\n",
        "edad_en_dias = edad * 365\n",
        "print(\"edad en dias:\", edad_en_dias)\n"
      ],
      "metadata": {
        "colab": {
          "base_uri": "https://localhost:8080/"
        },
        "id": "9VSe4_wf2ApE",
        "outputId": "5a9a1f97-3cd8-4ffd-e47f-89e50f8ee817"
      },
      "execution_count": null,
      "outputs": [
        {
          "output_type": "stream",
          "name": "stdout",
          "text": [
            "ingresa la edad: 20\n",
            "edad en dias: 7300\n"
          ]
        }
      ]
    }
  ]
}